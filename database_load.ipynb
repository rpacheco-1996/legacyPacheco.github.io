{
 "cells": [
  {
   "cell_type": "markdown",
   "metadata": {},
   "source": [
    "# Load Data into a Database"
   ]
  },
  {
   "cell_type": "markdown",
   "metadata": {},
   "source": [
    "* Install faker to fake PII data"
   ]
  },
  {
   "cell_type": "code",
   "execution_count": 1,
   "metadata": {
    "scrolled": true
   },
   "outputs": [
    {
     "name": "stdout",
     "output_type": "stream",
     "text": [
      "Requirement already satisfied: faker in /Users/ryanpacheco/opt/anaconda3/envs/legacy/lib/python3.9/site-packages (37.4.0)\n",
      "Requirement already satisfied: tzdata in /Users/ryanpacheco/opt/anaconda3/envs/legacy/lib/python3.9/site-packages (from faker) (2025.2)\n",
      "Note: you may need to restart the kernel to use updated packages.\n",
      "Requirement already satisfied: keybert in /Users/ryanpacheco/opt/anaconda3/envs/legacy/lib/python3.9/site-packages (0.9.0)\n",
      "Requirement already satisfied: numpy>=1.18.5 in /Users/ryanpacheco/opt/anaconda3/envs/legacy/lib/python3.9/site-packages (from keybert) (1.26.4)\n",
      "Requirement already satisfied: rich>=10.4.0 in /Users/ryanpacheco/opt/anaconda3/envs/legacy/lib/python3.9/site-packages (from keybert) (14.0.0)\n",
      "Requirement already satisfied: scikit-learn>=0.22.2 in /Users/ryanpacheco/opt/anaconda3/envs/legacy/lib/python3.9/site-packages (from keybert) (1.6.1)\n",
      "Requirement already satisfied: sentence-transformers>=0.3.8 in /Users/ryanpacheco/opt/anaconda3/envs/legacy/lib/python3.9/site-packages (from keybert) (4.1.0)\n",
      "Requirement already satisfied: markdown-it-py>=2.2.0 in /Users/ryanpacheco/opt/anaconda3/envs/legacy/lib/python3.9/site-packages (from rich>=10.4.0->keybert) (3.0.0)\n",
      "Requirement already satisfied: pygments<3.0.0,>=2.13.0 in /Users/ryanpacheco/opt/anaconda3/envs/legacy/lib/python3.9/site-packages (from rich>=10.4.0->keybert) (2.19.1)\n",
      "Requirement already satisfied: typing-extensions<5.0,>=4.0.0 in /Users/ryanpacheco/opt/anaconda3/envs/legacy/lib/python3.9/site-packages (from rich>=10.4.0->keybert) (4.12.2)\n",
      "Requirement already satisfied: mdurl~=0.1 in /Users/ryanpacheco/opt/anaconda3/envs/legacy/lib/python3.9/site-packages (from markdown-it-py>=2.2.0->rich>=10.4.0->keybert) (0.1.2)\n",
      "Requirement already satisfied: scipy>=1.6.0 in /Users/ryanpacheco/opt/anaconda3/envs/legacy/lib/python3.9/site-packages (from scikit-learn>=0.22.2->keybert) (1.13.1)\n",
      "Requirement already satisfied: joblib>=1.2.0 in /Users/ryanpacheco/opt/anaconda3/envs/legacy/lib/python3.9/site-packages (from scikit-learn>=0.22.2->keybert) (1.5.1)\n",
      "Requirement already satisfied: threadpoolctl>=3.1.0 in /Users/ryanpacheco/opt/anaconda3/envs/legacy/lib/python3.9/site-packages (from scikit-learn>=0.22.2->keybert) (3.6.0)\n",
      "Requirement already satisfied: transformers<5.0.0,>=4.41.0 in /Users/ryanpacheco/opt/anaconda3/envs/legacy/lib/python3.9/site-packages (from sentence-transformers>=0.3.8->keybert) (4.53.0)\n",
      "Requirement already satisfied: tqdm in /Users/ryanpacheco/opt/anaconda3/envs/legacy/lib/python3.9/site-packages (from sentence-transformers>=0.3.8->keybert) (4.67.1)\n",
      "Requirement already satisfied: torch>=1.11.0 in /Users/ryanpacheco/opt/anaconda3/envs/legacy/lib/python3.9/site-packages (from sentence-transformers>=0.3.8->keybert) (2.2.2)\n",
      "Requirement already satisfied: huggingface-hub>=0.20.0 in /Users/ryanpacheco/opt/anaconda3/envs/legacy/lib/python3.9/site-packages (from sentence-transformers>=0.3.8->keybert) (0.33.1)\n",
      "Requirement already satisfied: Pillow in /Users/ryanpacheco/opt/anaconda3/envs/legacy/lib/python3.9/site-packages (from sentence-transformers>=0.3.8->keybert) (11.2.1)\n",
      "Requirement already satisfied: filelock in /Users/ryanpacheco/opt/anaconda3/envs/legacy/lib/python3.9/site-packages (from transformers<5.0.0,>=4.41.0->sentence-transformers>=0.3.8->keybert) (3.18.0)\n",
      "Requirement already satisfied: packaging>=20.0 in /Users/ryanpacheco/opt/anaconda3/envs/legacy/lib/python3.9/site-packages (from transformers<5.0.0,>=4.41.0->sentence-transformers>=0.3.8->keybert) (24.2)\n",
      "Requirement already satisfied: pyyaml>=5.1 in /Users/ryanpacheco/opt/anaconda3/envs/legacy/lib/python3.9/site-packages (from transformers<5.0.0,>=4.41.0->sentence-transformers>=0.3.8->keybert) (6.0.2)\n",
      "Requirement already satisfied: regex!=2019.12.17 in /Users/ryanpacheco/opt/anaconda3/envs/legacy/lib/python3.9/site-packages (from transformers<5.0.0,>=4.41.0->sentence-transformers>=0.3.8->keybert) (2024.11.6)\n",
      "Requirement already satisfied: requests in /Users/ryanpacheco/opt/anaconda3/envs/legacy/lib/python3.9/site-packages (from transformers<5.0.0,>=4.41.0->sentence-transformers>=0.3.8->keybert) (2.32.4)\n",
      "Requirement already satisfied: tokenizers<0.22,>=0.21 in /Users/ryanpacheco/opt/anaconda3/envs/legacy/lib/python3.9/site-packages (from transformers<5.0.0,>=4.41.0->sentence-transformers>=0.3.8->keybert) (0.21.2)\n",
      "Requirement already satisfied: safetensors>=0.4.3 in /Users/ryanpacheco/opt/anaconda3/envs/legacy/lib/python3.9/site-packages (from transformers<5.0.0,>=4.41.0->sentence-transformers>=0.3.8->keybert) (0.5.3)\n",
      "Requirement already satisfied: fsspec>=2023.5.0 in /Users/ryanpacheco/opt/anaconda3/envs/legacy/lib/python3.9/site-packages (from huggingface-hub>=0.20.0->sentence-transformers>=0.3.8->keybert) (2025.5.1)\n",
      "Requirement already satisfied: hf-xet<2.0.0,>=1.1.2 in /Users/ryanpacheco/opt/anaconda3/envs/legacy/lib/python3.9/site-packages (from huggingface-hub>=0.20.0->sentence-transformers>=0.3.8->keybert) (1.1.5)\n",
      "Requirement already satisfied: sympy in /Users/ryanpacheco/opt/anaconda3/envs/legacy/lib/python3.9/site-packages (from torch>=1.11.0->sentence-transformers>=0.3.8->keybert) (1.14.0)\n",
      "Requirement already satisfied: networkx in /Users/ryanpacheco/opt/anaconda3/envs/legacy/lib/python3.9/site-packages (from torch>=1.11.0->sentence-transformers>=0.3.8->keybert) (3.2.1)\n",
      "Requirement already satisfied: jinja2 in /Users/ryanpacheco/opt/anaconda3/envs/legacy/lib/python3.9/site-packages (from torch>=1.11.0->sentence-transformers>=0.3.8->keybert) (3.1.6)\n",
      "Requirement already satisfied: MarkupSafe>=2.0 in /Users/ryanpacheco/opt/anaconda3/envs/legacy/lib/python3.9/site-packages (from jinja2->torch>=1.11.0->sentence-transformers>=0.3.8->keybert) (3.0.2)\n",
      "Requirement already satisfied: charset_normalizer<4,>=2 in /Users/ryanpacheco/opt/anaconda3/envs/legacy/lib/python3.9/site-packages (from requests->transformers<5.0.0,>=4.41.0->sentence-transformers>=0.3.8->keybert) (3.3.2)\n",
      "Requirement already satisfied: idna<4,>=2.5 in /Users/ryanpacheco/opt/anaconda3/envs/legacy/lib/python3.9/site-packages (from requests->transformers<5.0.0,>=4.41.0->sentence-transformers>=0.3.8->keybert) (3.7)\n",
      "Requirement already satisfied: urllib3<3,>=1.21.1 in /Users/ryanpacheco/opt/anaconda3/envs/legacy/lib/python3.9/site-packages (from requests->transformers<5.0.0,>=4.41.0->sentence-transformers>=0.3.8->keybert) (2.5.0)\n",
      "Requirement already satisfied: certifi>=2017.4.17 in /Users/ryanpacheco/opt/anaconda3/envs/legacy/lib/python3.9/site-packages (from requests->transformers<5.0.0,>=4.41.0->sentence-transformers>=0.3.8->keybert) (2025.6.15)\n",
      "Requirement already satisfied: mpmath<1.4,>=1.1.0 in /Users/ryanpacheco/opt/anaconda3/envs/legacy/lib/python3.9/site-packages (from sympy->torch>=1.11.0->sentence-transformers>=0.3.8->keybert) (1.3.0)\n",
      "Note: you may need to restart the kernel to use updated packages.\n",
      "Requirement already satisfied: torch in /Users/ryanpacheco/opt/anaconda3/envs/legacy/lib/python3.9/site-packages (2.2.2)\n",
      "Requirement already satisfied: filelock in /Users/ryanpacheco/opt/anaconda3/envs/legacy/lib/python3.9/site-packages (from torch) (3.18.0)\n",
      "Requirement already satisfied: typing-extensions>=4.8.0 in /Users/ryanpacheco/opt/anaconda3/envs/legacy/lib/python3.9/site-packages (from torch) (4.12.2)\n",
      "Requirement already satisfied: sympy in /Users/ryanpacheco/opt/anaconda3/envs/legacy/lib/python3.9/site-packages (from torch) (1.14.0)\n",
      "Requirement already satisfied: networkx in /Users/ryanpacheco/opt/anaconda3/envs/legacy/lib/python3.9/site-packages (from torch) (3.2.1)\n",
      "Requirement already satisfied: jinja2 in /Users/ryanpacheco/opt/anaconda3/envs/legacy/lib/python3.9/site-packages (from torch) (3.1.6)\n",
      "Requirement already satisfied: fsspec in /Users/ryanpacheco/opt/anaconda3/envs/legacy/lib/python3.9/site-packages (from torch) (2025.5.1)\n",
      "Requirement already satisfied: MarkupSafe>=2.0 in /Users/ryanpacheco/opt/anaconda3/envs/legacy/lib/python3.9/site-packages (from jinja2->torch) (3.0.2)\n",
      "Requirement already satisfied: mpmath<1.4,>=1.1.0 in /Users/ryanpacheco/opt/anaconda3/envs/legacy/lib/python3.9/site-packages (from sympy->torch) (1.3.0)\n",
      "Note: you may need to restart the kernel to use updated packages.\n"
     ]
    },
    {
     "name": "stdout",
     "output_type": "stream",
     "text": [
      "Requirement already satisfied: MarkupSafe>=0.23 in /usr/local/lib/python3.9/site-packages (from jinja2->torch) (1.1.1)\n",
      "Requirement already satisfied: mpmath<1.4,>=1.1.0 in /usr/local/lib/python3.9/site-packages (from sympy->torch) (1.3.0)\n",
      "\u001b[33mDEPRECATION: Configuring installation scheme with distutils config files is deprecated and will no longer work in the near future. If you are using a Homebrew or Linuxbrew Python, please see discussion at https://github.com/Homebrew/homebrew-core/issues/76621\u001b[0m\u001b[33m\n",
      "\u001b[0m\n",
      "\u001b[1m[\u001b[0m\u001b[34;49mnotice\u001b[0m\u001b[1;39;49m]\u001b[0m\u001b[39;49m A new release of pip available: \u001b[0m\u001b[31;49m22.3.1\u001b[0m\u001b[39;49m -> \u001b[0m\u001b[32;49m25.1.1\u001b[0m\n",
      "\u001b[1m[\u001b[0m\u001b[34;49mnotice\u001b[0m\u001b[1;39;49m]\u001b[0m\u001b[39;49m To update, run: \u001b[0m\u001b[32;49mpython3.9 -m pip install --upgrade pip\u001b[0m\n",
      "Note: you may need to restart the kernel to use updated packages.\n",
      "\u001b[33mDEPRECATION: Configuring installation scheme with distutils config files is deprecated and will no longer work in the near future. If you are using a Homebrew or Linuxbrew Python, please see discussion at https://github.com/Homebrew/homebrew-core/issues/76621\u001b[0m\u001b[33m\n",
      "\u001b[0mRequirement already satisfied: numpy in /Users/ryanpacheco/Library/Python/3.9/lib/python/site-packages (1.19.5)\n",
      "Collecting numpy\n",
      "  Downloading numpy-2.0.2-cp39-cp39-macosx_14_0_x86_64.whl (6.9 MB)\n",
      "\u001b[2K     \u001b[90m━━━━━━━━━━━━━━━━━━━━━━━━━━━━━━━━━━━━━━━━\u001b[0m \u001b[32m6.9/6.9 MB\u001b[0m \u001b[31m27.8 MB/s\u001b[0m eta \u001b[36m0:00:00\u001b[0m00:01\u001b[0m00:01\u001b[0m\n",
      "\u001b[?25hInstalling collected packages: numpy\n",
      "  Attempting uninstall: numpy\n",
      "    Found existing installation: numpy 1.19.5\n",
      "    Uninstalling numpy-1.19.5:\n",
      "      Successfully uninstalled numpy-1.19.5\n",
      "\u001b[33m  DEPRECATION: Configuring installation scheme with distutils config files is deprecated and will no longer work in the near future. If you are using a Homebrew or Linuxbrew Python, please see discussion at https://github.com/Homebrew/homebrew-core/issues/76621\u001b[0m\u001b[33m\n",
      "\u001b[0m\u001b[33mDEPRECATION: Configuring installation scheme with distutils config files is deprecated and will no longer work in the near future. If you are using a Homebrew or Linuxbrew Python, please see discussion at https://github.com/Homebrew/homebrew-core/issues/76621\u001b[0m\u001b[33m\n",
      "\u001b[0m\u001b[31mERROR: pip's dependency resolver does not currently take into account all the packages that are installed. This behaviour is the source of the following dependency conflicts.\n",
      "tensorflow 2.7.1 requires tensorflow-estimator<2.8,~=2.7.0rc0, but you have tensorflow-estimator 2.5.0 which is incompatible.\n",
      "rasa 3.1.0 requires numpy<1.20.0,>=1.19.2, but you have numpy 2.0.2 which is incompatible.\n",
      "rasa 3.1.0 requires packaging<21.0,>=20.0, but you have packaging 25.0 which is incompatible.\n",
      "rasa 3.1.0 requires typing-extensions<4.0.0,>=3.7.4, but you have typing-extensions 4.14.0 which is incompatible.\n",
      "datasets 1.5.0 requires huggingface-hub<0.1.0, but you have huggingface-hub 0.33.1 which is incompatible.\u001b[0m\u001b[31m\n",
      "\u001b[0mSuccessfully installed numpy-2.0.2\n",
      "\n",
      "\u001b[1m[\u001b[0m\u001b[34;49mnotice\u001b[0m\u001b[1;39;49m]\u001b[0m\u001b[39;49m A new release of pip available: \u001b[0m\u001b[31;49m22.3.1\u001b[0m\u001b[39;49m -> \u001b[0m\u001b[32;49m25.1.1\u001b[0m\n",
      "\u001b[1m[\u001b[0m\u001b[34;49mnotice\u001b[0m\u001b[1;39;49m]\u001b[0m\u001b[39;49m To update, run: \u001b[0m\u001b[32;49mpython3.9 -m pip install --upgrade pip\u001b[0m\n",
      "Note: you may need to restart the kernel to use updated packages.\n"
     ]
    }
   ],
   "source": [
    "%pip install faker\n",
    "%pip install keybert\n",
    "%pip install --upgrade torch"
   ]
  },
  {
   "cell_type": "code",
   "execution_count": 2,
   "metadata": {},
   "outputs": [],
   "source": [
    "import pandas as pd\n",
    "import psycopg2\n",
    "from psycopg2.extras import execute_values\n",
    "from faker import Faker # To fake PII data like names\n",
    "import random\n",
    "from keybert import KeyBERT"
   ]
  },
  {
   "cell_type": "code",
   "execution_count": 3,
   "metadata": {},
   "outputs": [],
   "source": [
    "fake = Faker()"
   ]
  },
  {
   "cell_type": "markdown",
   "metadata": {},
   "source": [
    "## Connect to Database\n",
    "* In reality the credentials would be stored in a secure way like with Secrets Mangager"
   ]
  },
  {
   "cell_type": "code",
   "execution_count": 4,
   "metadata": {},
   "outputs": [],
   "source": [
    "DB_NAME = \"legacy_pacheco\"\n",
    "DB_USER = \"rpacheco\"\n",
    "DB_PASSWORD = \"D1qoGvjXqPTd2vB4i4KS71xDEWmCOpSq\"\n",
    "DB_HOST = \"dpg-d1ff63mmcj7s739p963g-a.oregon-postgres.render.com\"\n",
    "DB_PORT = \"5432\""
   ]
  },
  {
   "cell_type": "code",
   "execution_count": 5,
   "metadata": {},
   "outputs": [],
   "source": [
    "conn = psycopg2.connect(\n",
    "    dbname=DB_NAME,\n",
    "    user=DB_USER,\n",
    "    password=DB_PASSWORD,\n",
    "    host=DB_HOST,\n",
    "    port=DB_PORT,\n",
    "    sslmode=\"require\"\n",
    ")\n",
    "cursor = conn.cursor()"
   ]
  },
  {
   "cell_type": "markdown",
   "metadata": {},
   "source": [
    "## Read in Kaggle NLP Mental Health Conversations Dataset\n",
    "* https://www.kaggle.com/datasets/thedevastator/nlp-mental-health-conversations?resource=download"
   ]
  },
  {
   "cell_type": "code",
   "execution_count": 6,
   "metadata": {},
   "outputs": [],
   "source": [
    "df = pd.read_csv('train.csv')"
   ]
  },
  {
   "cell_type": "code",
   "execution_count": 7,
   "metadata": {},
   "outputs": [
    {
     "data": {
      "text/html": [
       "<div>\n",
       "<style scoped>\n",
       "    .dataframe tbody tr th:only-of-type {\n",
       "        vertical-align: middle;\n",
       "    }\n",
       "\n",
       "    .dataframe tbody tr th {\n",
       "        vertical-align: top;\n",
       "    }\n",
       "\n",
       "    .dataframe thead th {\n",
       "        text-align: right;\n",
       "    }\n",
       "</style>\n",
       "<table border=\"1\" class=\"dataframe\">\n",
       "  <thead>\n",
       "    <tr style=\"text-align: right;\">\n",
       "      <th></th>\n",
       "      <th>Context</th>\n",
       "      <th>Response</th>\n",
       "    </tr>\n",
       "  </thead>\n",
       "  <tbody>\n",
       "    <tr>\n",
       "      <th>0</th>\n",
       "      <td>I'm going through some things with my feelings...</td>\n",
       "      <td>If everyone thinks you're worthless, then mayb...</td>\n",
       "    </tr>\n",
       "    <tr>\n",
       "      <th>1</th>\n",
       "      <td>I'm going through some things with my feelings...</td>\n",
       "      <td>Hello, and thank you for your question and see...</td>\n",
       "    </tr>\n",
       "    <tr>\n",
       "      <th>2</th>\n",
       "      <td>I'm going through some things with my feelings...</td>\n",
       "      <td>First thing I'd suggest is getting the sleep y...</td>\n",
       "    </tr>\n",
       "    <tr>\n",
       "      <th>3</th>\n",
       "      <td>I'm going through some things with my feelings...</td>\n",
       "      <td>Therapy is essential for those that are feelin...</td>\n",
       "    </tr>\n",
       "    <tr>\n",
       "      <th>4</th>\n",
       "      <td>I'm going through some things with my feelings...</td>\n",
       "      <td>I first want to let you know that you are not ...</td>\n",
       "    </tr>\n",
       "  </tbody>\n",
       "</table>\n",
       "</div>"
      ],
      "text/plain": [
       "                                             Context  \\\n",
       "0  I'm going through some things with my feelings...   \n",
       "1  I'm going through some things with my feelings...   \n",
       "2  I'm going through some things with my feelings...   \n",
       "3  I'm going through some things with my feelings...   \n",
       "4  I'm going through some things with my feelings...   \n",
       "\n",
       "                                            Response  \n",
       "0  If everyone thinks you're worthless, then mayb...  \n",
       "1  Hello, and thank you for your question and see...  \n",
       "2  First thing I'd suggest is getting the sleep y...  \n",
       "3  Therapy is essential for those that are feelin...  \n",
       "4  I first want to let you know that you are not ...  "
      ]
     },
     "execution_count": 7,
     "metadata": {},
     "output_type": "execute_result"
    }
   ],
   "source": [
    "df.head()"
   ]
  },
  {
   "cell_type": "markdown",
   "metadata": {},
   "source": [
    "* Assign fake PII data. I chose first/last name, clinic (city), doctor, and age\n",
    "* This is to train a model to generate a numerical/categorical response\n",
    "* Use a KeyBERT model to identify keywords for each Context column. This is used in the database search feature in the app that pairs doctor responses to keywords."
   ]
  },
  {
   "cell_type": "code",
   "execution_count": 8,
   "metadata": {},
   "outputs": [],
   "source": [
    "kw_model = KeyBERT()"
   ]
  },
  {
   "cell_type": "code",
   "execution_count": 9,
   "metadata": {
    "scrolled": true
   },
   "outputs": [],
   "source": [
    "clinics = [fake.city() for x in range(0, 100)]"
   ]
  },
  {
   "cell_type": "code",
   "execution_count": 10,
   "metadata": {},
   "outputs": [],
   "source": [
    "df[\"firstName\"] = [fake.first_name() for _ in range(len(df))]\n",
    "df[\"lastName\"] = [fake.last_name() for _ in range(len(df))]\n",
    "df[\"clinic\"] = [clinics[int(random.randint(0,99))] for _ in range(len(df))]\n",
    "df[\"doctor\"] = [fake.last_name() for _ in range(len(df))]\n",
    "df[\"age\"] = [int(random.randint(18, 50)) for _ in range(len(df))] # keeping ages in the 18 - 50 range so data isn't to spread out\n",
    "df[\"keywords\"] = df[\"Context\"].apply(lambda x: [kw[0] for kw in kw_model.extract_keywords(x)])"
   ]
  },
  {
   "cell_type": "code",
   "execution_count": 11,
   "metadata": {},
   "outputs": [
    {
     "data": {
      "text/html": [
       "<div>\n",
       "<style scoped>\n",
       "    .dataframe tbody tr th:only-of-type {\n",
       "        vertical-align: middle;\n",
       "    }\n",
       "\n",
       "    .dataframe tbody tr th {\n",
       "        vertical-align: top;\n",
       "    }\n",
       "\n",
       "    .dataframe thead th {\n",
       "        text-align: right;\n",
       "    }\n",
       "</style>\n",
       "<table border=\"1\" class=\"dataframe\">\n",
       "  <thead>\n",
       "    <tr style=\"text-align: right;\">\n",
       "      <th></th>\n",
       "      <th>Context</th>\n",
       "      <th>Response</th>\n",
       "      <th>firstName</th>\n",
       "      <th>lastName</th>\n",
       "      <th>clinic</th>\n",
       "      <th>doctor</th>\n",
       "      <th>age</th>\n",
       "      <th>keywords</th>\n",
       "    </tr>\n",
       "  </thead>\n",
       "  <tbody>\n",
       "    <tr>\n",
       "      <th>0</th>\n",
       "      <td>I'm going through some things with my feelings...</td>\n",
       "      <td>If everyone thinks you're worthless, then mayb...</td>\n",
       "      <td>Shawn</td>\n",
       "      <td>Salas</td>\n",
       "      <td>Williamport</td>\n",
       "      <td>Kennedy</td>\n",
       "      <td>20</td>\n",
       "      <td>[suicide, worthless, sleep, feeling, change]</td>\n",
       "    </tr>\n",
       "    <tr>\n",
       "      <th>1</th>\n",
       "      <td>I'm going through some things with my feelings...</td>\n",
       "      <td>Hello, and thank you for your question and see...</td>\n",
       "      <td>Emily</td>\n",
       "      <td>Thornton</td>\n",
       "      <td>Fergusonbury</td>\n",
       "      <td>Gonzalez</td>\n",
       "      <td>43</td>\n",
       "      <td>[suicide, worthless, sleep, feeling, change]</td>\n",
       "    </tr>\n",
       "    <tr>\n",
       "      <th>2</th>\n",
       "      <td>I'm going through some things with my feelings...</td>\n",
       "      <td>First thing I'd suggest is getting the sleep y...</td>\n",
       "      <td>Brandon</td>\n",
       "      <td>George</td>\n",
       "      <td>Kristopherport</td>\n",
       "      <td>Galvan</td>\n",
       "      <td>26</td>\n",
       "      <td>[suicide, worthless, sleep, feeling, change]</td>\n",
       "    </tr>\n",
       "    <tr>\n",
       "      <th>3</th>\n",
       "      <td>I'm going through some things with my feelings...</td>\n",
       "      <td>Therapy is essential for those that are feelin...</td>\n",
       "      <td>Gary</td>\n",
       "      <td>Brown</td>\n",
       "      <td>Ryanberg</td>\n",
       "      <td>Vargas</td>\n",
       "      <td>29</td>\n",
       "      <td>[suicide, worthless, sleep, feeling, change]</td>\n",
       "    </tr>\n",
       "    <tr>\n",
       "      <th>4</th>\n",
       "      <td>I'm going through some things with my feelings...</td>\n",
       "      <td>I first want to let you know that you are not ...</td>\n",
       "      <td>William</td>\n",
       "      <td>Howell</td>\n",
       "      <td>Markberg</td>\n",
       "      <td>Hawkins</td>\n",
       "      <td>38</td>\n",
       "      <td>[suicide, worthless, sleep, feeling, change]</td>\n",
       "    </tr>\n",
       "  </tbody>\n",
       "</table>\n",
       "</div>"
      ],
      "text/plain": [
       "                                             Context  \\\n",
       "0  I'm going through some things with my feelings...   \n",
       "1  I'm going through some things with my feelings...   \n",
       "2  I'm going through some things with my feelings...   \n",
       "3  I'm going through some things with my feelings...   \n",
       "4  I'm going through some things with my feelings...   \n",
       "\n",
       "                                            Response firstName  lastName  \\\n",
       "0  If everyone thinks you're worthless, then mayb...     Shawn     Salas   \n",
       "1  Hello, and thank you for your question and see...     Emily  Thornton   \n",
       "2  First thing I'd suggest is getting the sleep y...   Brandon    George   \n",
       "3  Therapy is essential for those that are feelin...      Gary     Brown   \n",
       "4  I first want to let you know that you are not ...   William    Howell   \n",
       "\n",
       "           clinic    doctor  age                                      keywords  \n",
       "0     Williamport   Kennedy   20  [suicide, worthless, sleep, feeling, change]  \n",
       "1    Fergusonbury  Gonzalez   43  [suicide, worthless, sleep, feeling, change]  \n",
       "2  Kristopherport    Galvan   26  [suicide, worthless, sleep, feeling, change]  \n",
       "3        Ryanberg    Vargas   29  [suicide, worthless, sleep, feeling, change]  \n",
       "4        Markberg   Hawkins   38  [suicide, worthless, sleep, feeling, change]  "
      ]
     },
     "execution_count": 11,
     "metadata": {},
     "output_type": "execute_result"
    }
   ],
   "source": [
    "df.head()"
   ]
  },
  {
   "cell_type": "markdown",
   "metadata": {},
   "source": [
    "* Convert dataframe to a numpy array to insert into postgres"
   ]
  },
  {
   "cell_type": "code",
   "execution_count": 12,
   "metadata": {},
   "outputs": [],
   "source": [
    "data = df.to_records(index=False).tolist()"
   ]
  },
  {
   "cell_type": "markdown",
   "metadata": {},
   "source": [
    "* Generate insert query and insert into table"
   ]
  },
  {
   "cell_type": "code",
   "execution_count": 13,
   "metadata": {},
   "outputs": [
    {
     "data": {
      "text/plain": [
       "(\"I'm going through some things with my feelings and myself. I barely sleep and I do nothing but think about how I'm worthless and how I shouldn't be here.\\n   I've never tried or contemplated suicide. I've always wanted to fix my issues, but I never get around to it.\\n   How can I change my feeling of being worthless to everyone?\",\n",
       " \"If everyone thinks you're worthless, then maybe you need to find new people to hang out with.Seriously, the social context in which a person lives is a big influence in self-esteem.Otherwise, you can go round and round trying to understand why you're not worthless, then go back to the same crowd and be knocked down again.There are many inspirational messages you can find in social media. \\xa0Maybe read some of the ones which state that no person is worthless, and that everyone has a good purpose to their life.Also, since our culture is so saturated with the belief that if someone doesn't feel good about themselves that this is somehow terrible.Bad feelings are part of living. \\xa0They are the motivation to remove ourselves from situations and relationships which do us more harm than good.Bad feelings do feel terrible. \\xa0 Your feeling of worthlessness may be good in the sense of motivating you to find out that you are much better than your feelings today.\",\n",
       " 'Shawn',\n",
       " 'Salas',\n",
       " 'Williamport',\n",
       " 'Kennedy',\n",
       " 20,\n",
       " ['suicide', 'worthless', 'sleep', 'feeling', 'change'])"
      ]
     },
     "execution_count": 13,
     "metadata": {},
     "output_type": "execute_result"
    }
   ],
   "source": [
    "data[0]"
   ]
  },
  {
   "cell_type": "code",
   "execution_count": 14,
   "metadata": {},
   "outputs": [],
   "source": [
    "insert_query = \"\"\"\n",
    "    INSERT INTO records (context, response, firstName, lastName, clinic, doctor, age, keywords)\n",
    "    VALUES %s\n",
    "\"\"\"\n",
    "execute_values(cursor, insert_query, data)\n",
    "\n",
    "conn.commit()"
   ]
  },
  {
   "cell_type": "code",
   "execution_count": 15,
   "metadata": {},
   "outputs": [],
   "source": [
    "cursor.close()\n",
    "conn.close()"
   ]
  },
  {
   "cell_type": "code",
   "execution_count": null,
   "metadata": {},
   "outputs": [],
   "source": []
  }
 ],
 "metadata": {
  "kernelspec": {
   "display_name": "Python 3 (ipykernel)",
   "language": "python",
   "name": "python3"
  },
  "language_info": {
   "codemirror_mode": {
    "name": "ipython",
    "version": 3
   },
   "file_extension": ".py",
   "mimetype": "text/x-python",
   "name": "python",
   "nbconvert_exporter": "python",
   "pygments_lexer": "ipython3",
   "version": "3.9.23"
  }
 },
 "nbformat": 4,
 "nbformat_minor": 4
}
